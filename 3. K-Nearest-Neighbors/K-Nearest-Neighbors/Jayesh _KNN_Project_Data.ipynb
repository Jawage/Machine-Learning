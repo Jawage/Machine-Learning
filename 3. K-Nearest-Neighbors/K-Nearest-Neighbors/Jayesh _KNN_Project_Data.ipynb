{
 "cells": [
  {
   "cell_type": "code",
   "execution_count": 40,
   "metadata": {},
   "outputs": [],
   "source": [
    "import pandas as pd\n",
    "import seaborn as sns\n",
    "import numpy as np\n",
    "import matplotlib.pyplot as plt"
   ]
  },
  {
   "cell_type": "code",
   "execution_count": 2,
   "metadata": {},
   "outputs": [],
   "source": [
    "df =pd.read_csv('KNN_Project_Data')"
   ]
  },
  {
   "cell_type": "code",
   "execution_count": 3,
   "metadata": {},
   "outputs": [
    {
     "data": {
      "text/html": [
       "<div>\n",
       "<style scoped>\n",
       "    .dataframe tbody tr th:only-of-type {\n",
       "        vertical-align: middle;\n",
       "    }\n",
       "\n",
       "    .dataframe tbody tr th {\n",
       "        vertical-align: top;\n",
       "    }\n",
       "\n",
       "    .dataframe thead th {\n",
       "        text-align: right;\n",
       "    }\n",
       "</style>\n",
       "<table border=\"1\" class=\"dataframe\">\n",
       "  <thead>\n",
       "    <tr style=\"text-align: right;\">\n",
       "      <th></th>\n",
       "      <th>XVPM</th>\n",
       "      <th>GWYH</th>\n",
       "      <th>TRAT</th>\n",
       "      <th>TLLZ</th>\n",
       "      <th>IGGA</th>\n",
       "      <th>HYKR</th>\n",
       "      <th>EDFS</th>\n",
       "      <th>GUUB</th>\n",
       "      <th>MGJM</th>\n",
       "      <th>JHZC</th>\n",
       "      <th>TARGET CLASS</th>\n",
       "    </tr>\n",
       "  </thead>\n",
       "  <tbody>\n",
       "    <tr>\n",
       "      <th>0</th>\n",
       "      <td>1636.670614</td>\n",
       "      <td>817.988525</td>\n",
       "      <td>2565.995189</td>\n",
       "      <td>358.347163</td>\n",
       "      <td>550.417491</td>\n",
       "      <td>1618.870897</td>\n",
       "      <td>2147.641254</td>\n",
       "      <td>330.727893</td>\n",
       "      <td>1494.878631</td>\n",
       "      <td>845.136088</td>\n",
       "      <td>0</td>\n",
       "    </tr>\n",
       "    <tr>\n",
       "      <th>1</th>\n",
       "      <td>1013.402760</td>\n",
       "      <td>577.587332</td>\n",
       "      <td>2644.141273</td>\n",
       "      <td>280.428203</td>\n",
       "      <td>1161.873391</td>\n",
       "      <td>2084.107872</td>\n",
       "      <td>853.404981</td>\n",
       "      <td>447.157619</td>\n",
       "      <td>1193.032521</td>\n",
       "      <td>861.081809</td>\n",
       "      <td>1</td>\n",
       "    </tr>\n",
       "    <tr>\n",
       "      <th>2</th>\n",
       "      <td>1300.035501</td>\n",
       "      <td>820.518697</td>\n",
       "      <td>2025.854469</td>\n",
       "      <td>525.562292</td>\n",
       "      <td>922.206261</td>\n",
       "      <td>2552.355407</td>\n",
       "      <td>818.676686</td>\n",
       "      <td>845.491492</td>\n",
       "      <td>1968.367513</td>\n",
       "      <td>1647.186291</td>\n",
       "      <td>1</td>\n",
       "    </tr>\n",
       "    <tr>\n",
       "      <th>3</th>\n",
       "      <td>1059.347542</td>\n",
       "      <td>1066.866418</td>\n",
       "      <td>612.000041</td>\n",
       "      <td>480.827789</td>\n",
       "      <td>419.467495</td>\n",
       "      <td>685.666983</td>\n",
       "      <td>852.867810</td>\n",
       "      <td>341.664784</td>\n",
       "      <td>1154.391368</td>\n",
       "      <td>1450.935357</td>\n",
       "      <td>0</td>\n",
       "    </tr>\n",
       "    <tr>\n",
       "      <th>4</th>\n",
       "      <td>1018.340526</td>\n",
       "      <td>1313.679056</td>\n",
       "      <td>950.622661</td>\n",
       "      <td>724.742174</td>\n",
       "      <td>843.065903</td>\n",
       "      <td>1370.554164</td>\n",
       "      <td>905.469453</td>\n",
       "      <td>658.118202</td>\n",
       "      <td>539.459350</td>\n",
       "      <td>1899.850792</td>\n",
       "      <td>0</td>\n",
       "    </tr>\n",
       "  </tbody>\n",
       "</table>\n",
       "</div>"
      ],
      "text/plain": [
       "          XVPM         GWYH         TRAT        TLLZ         IGGA  \\\n",
       "0  1636.670614   817.988525  2565.995189  358.347163   550.417491   \n",
       "1  1013.402760   577.587332  2644.141273  280.428203  1161.873391   \n",
       "2  1300.035501   820.518697  2025.854469  525.562292   922.206261   \n",
       "3  1059.347542  1066.866418   612.000041  480.827789   419.467495   \n",
       "4  1018.340526  1313.679056   950.622661  724.742174   843.065903   \n",
       "\n",
       "          HYKR         EDFS        GUUB         MGJM         JHZC  \\\n",
       "0  1618.870897  2147.641254  330.727893  1494.878631   845.136088   \n",
       "1  2084.107872   853.404981  447.157619  1193.032521   861.081809   \n",
       "2  2552.355407   818.676686  845.491492  1968.367513  1647.186291   \n",
       "3   685.666983   852.867810  341.664784  1154.391368  1450.935357   \n",
       "4  1370.554164   905.469453  658.118202   539.459350  1899.850792   \n",
       "\n",
       "   TARGET CLASS  \n",
       "0             0  \n",
       "1             1  \n",
       "2             1  \n",
       "3             0  \n",
       "4             0  "
      ]
     },
     "execution_count": 3,
     "metadata": {},
     "output_type": "execute_result"
    }
   ],
   "source": [
    "df.head()"
   ]
  },
  {
   "cell_type": "code",
   "execution_count": 5,
   "metadata": {},
   "outputs": [],
   "source": [
    "from sklearn.preprocessing import StandardScaler"
   ]
  },
  {
   "cell_type": "code",
   "execution_count": 6,
   "metadata": {},
   "outputs": [],
   "source": [
    "ss = StandardScaler()"
   ]
  },
  {
   "cell_type": "code",
   "execution_count": 11,
   "metadata": {},
   "outputs": [],
   "source": [
    "Scaled_array = ss.fit_transform(df.drop('TARGET CLASS',axis=1))"
   ]
  },
  {
   "cell_type": "code",
   "execution_count": 12,
   "metadata": {},
   "outputs": [],
   "source": [
    "X = pd.DataFrame(data = Scaled_array, index=df.index, columns=df.columns[:-1])"
   ]
  },
  {
   "cell_type": "code",
   "execution_count": 14,
   "metadata": {},
   "outputs": [],
   "source": [
    "Y= df['TARGET CLASS']"
   ]
  },
  {
   "cell_type": "code",
   "execution_count": 16,
   "metadata": {},
   "outputs": [
    {
     "data": {
      "text/html": [
       "<div>\n",
       "<style scoped>\n",
       "    .dataframe tbody tr th:only-of-type {\n",
       "        vertical-align: middle;\n",
       "    }\n",
       "\n",
       "    .dataframe tbody tr th {\n",
       "        vertical-align: top;\n",
       "    }\n",
       "\n",
       "    .dataframe thead th {\n",
       "        text-align: right;\n",
       "    }\n",
       "</style>\n",
       "<table border=\"1\" class=\"dataframe\">\n",
       "  <thead>\n",
       "    <tr style=\"text-align: right;\">\n",
       "      <th></th>\n",
       "      <th>XVPM</th>\n",
       "      <th>GWYH</th>\n",
       "      <th>TRAT</th>\n",
       "      <th>TLLZ</th>\n",
       "      <th>IGGA</th>\n",
       "      <th>HYKR</th>\n",
       "      <th>EDFS</th>\n",
       "      <th>GUUB</th>\n",
       "      <th>MGJM</th>\n",
       "      <th>JHZC</th>\n",
       "      <th>TARGET CLASS</th>\n",
       "    </tr>\n",
       "  </thead>\n",
       "  <tbody>\n",
       "    <tr>\n",
       "      <th>XVPM</th>\n",
       "      <td>1.000000</td>\n",
       "      <td>-0.004816</td>\n",
       "      <td>-0.014219</td>\n",
       "      <td>0.055256</td>\n",
       "      <td>0.003688</td>\n",
       "      <td>0.001883</td>\n",
       "      <td>-0.023526</td>\n",
       "      <td>0.032118</td>\n",
       "      <td>-0.016091</td>\n",
       "      <td>0.026222</td>\n",
       "      <td>-0.079896</td>\n",
       "    </tr>\n",
       "    <tr>\n",
       "      <th>GWYH</th>\n",
       "      <td>-0.004816</td>\n",
       "      <td>1.000000</td>\n",
       "      <td>-0.224859</td>\n",
       "      <td>0.121623</td>\n",
       "      <td>-0.104795</td>\n",
       "      <td>0.042529</td>\n",
       "      <td>-0.102221</td>\n",
       "      <td>0.061553</td>\n",
       "      <td>0.039728</td>\n",
       "      <td>0.105532</td>\n",
       "      <td>-0.416168</td>\n",
       "    </tr>\n",
       "    <tr>\n",
       "      <th>TRAT</th>\n",
       "      <td>-0.014219</td>\n",
       "      <td>-0.224859</td>\n",
       "      <td>1.000000</td>\n",
       "      <td>-0.037726</td>\n",
       "      <td>0.124870</td>\n",
       "      <td>0.005462</td>\n",
       "      <td>0.118736</td>\n",
       "      <td>-0.073203</td>\n",
       "      <td>-0.067177</td>\n",
       "      <td>-0.119816</td>\n",
       "      <td>0.489347</td>\n",
       "    </tr>\n",
       "    <tr>\n",
       "      <th>TLLZ</th>\n",
       "      <td>0.055256</td>\n",
       "      <td>0.121623</td>\n",
       "      <td>-0.037726</td>\n",
       "      <td>1.000000</td>\n",
       "      <td>-0.005545</td>\n",
       "      <td>-0.004792</td>\n",
       "      <td>-0.063989</td>\n",
       "      <td>0.053958</td>\n",
       "      <td>0.094121</td>\n",
       "      <td>0.065143</td>\n",
       "      <td>-0.172029</td>\n",
       "    </tr>\n",
       "    <tr>\n",
       "      <th>IGGA</th>\n",
       "      <td>0.003688</td>\n",
       "      <td>-0.104795</td>\n",
       "      <td>0.124870</td>\n",
       "      <td>-0.005545</td>\n",
       "      <td>1.000000</td>\n",
       "      <td>0.003631</td>\n",
       "      <td>0.076304</td>\n",
       "      <td>-0.042134</td>\n",
       "      <td>-0.011688</td>\n",
       "      <td>-0.066895</td>\n",
       "      <td>0.295390</td>\n",
       "    </tr>\n",
       "    <tr>\n",
       "      <th>HYKR</th>\n",
       "      <td>0.001883</td>\n",
       "      <td>0.042529</td>\n",
       "      <td>0.005462</td>\n",
       "      <td>-0.004792</td>\n",
       "      <td>0.003631</td>\n",
       "      <td>1.000000</td>\n",
       "      <td>-0.007452</td>\n",
       "      <td>0.004891</td>\n",
       "      <td>0.025553</td>\n",
       "      <td>-0.006403</td>\n",
       "      <td>-0.015266</td>\n",
       "    </tr>\n",
       "    <tr>\n",
       "      <th>EDFS</th>\n",
       "      <td>-0.023526</td>\n",
       "      <td>-0.102221</td>\n",
       "      <td>0.118736</td>\n",
       "      <td>-0.063989</td>\n",
       "      <td>0.076304</td>\n",
       "      <td>-0.007452</td>\n",
       "      <td>1.000000</td>\n",
       "      <td>-0.071361</td>\n",
       "      <td>0.005865</td>\n",
       "      <td>-0.047928</td>\n",
       "      <td>0.281607</td>\n",
       "    </tr>\n",
       "    <tr>\n",
       "      <th>GUUB</th>\n",
       "      <td>0.032118</td>\n",
       "      <td>0.061553</td>\n",
       "      <td>-0.073203</td>\n",
       "      <td>0.053958</td>\n",
       "      <td>-0.042134</td>\n",
       "      <td>0.004891</td>\n",
       "      <td>-0.071361</td>\n",
       "      <td>1.000000</td>\n",
       "      <td>0.011507</td>\n",
       "      <td>0.061170</td>\n",
       "      <td>-0.174496</td>\n",
       "    </tr>\n",
       "    <tr>\n",
       "      <th>MGJM</th>\n",
       "      <td>-0.016091</td>\n",
       "      <td>0.039728</td>\n",
       "      <td>-0.067177</td>\n",
       "      <td>0.094121</td>\n",
       "      <td>-0.011688</td>\n",
       "      <td>0.025553</td>\n",
       "      <td>0.005865</td>\n",
       "      <td>0.011507</td>\n",
       "      <td>1.000000</td>\n",
       "      <td>0.014342</td>\n",
       "      <td>-0.098887</td>\n",
       "    </tr>\n",
       "    <tr>\n",
       "      <th>JHZC</th>\n",
       "      <td>0.026222</td>\n",
       "      <td>0.105532</td>\n",
       "      <td>-0.119816</td>\n",
       "      <td>0.065143</td>\n",
       "      <td>-0.066895</td>\n",
       "      <td>-0.006403</td>\n",
       "      <td>-0.047928</td>\n",
       "      <td>0.061170</td>\n",
       "      <td>0.014342</td>\n",
       "      <td>1.000000</td>\n",
       "      <td>-0.301725</td>\n",
       "    </tr>\n",
       "    <tr>\n",
       "      <th>TARGET CLASS</th>\n",
       "      <td>-0.079896</td>\n",
       "      <td>-0.416168</td>\n",
       "      <td>0.489347</td>\n",
       "      <td>-0.172029</td>\n",
       "      <td>0.295390</td>\n",
       "      <td>-0.015266</td>\n",
       "      <td>0.281607</td>\n",
       "      <td>-0.174496</td>\n",
       "      <td>-0.098887</td>\n",
       "      <td>-0.301725</td>\n",
       "      <td>1.000000</td>\n",
       "    </tr>\n",
       "  </tbody>\n",
       "</table>\n",
       "</div>"
      ],
      "text/plain": [
       "                  XVPM      GWYH      TRAT      TLLZ      IGGA      HYKR  \\\n",
       "XVPM          1.000000 -0.004816 -0.014219  0.055256  0.003688  0.001883   \n",
       "GWYH         -0.004816  1.000000 -0.224859  0.121623 -0.104795  0.042529   \n",
       "TRAT         -0.014219 -0.224859  1.000000 -0.037726  0.124870  0.005462   \n",
       "TLLZ          0.055256  0.121623 -0.037726  1.000000 -0.005545 -0.004792   \n",
       "IGGA          0.003688 -0.104795  0.124870 -0.005545  1.000000  0.003631   \n",
       "HYKR          0.001883  0.042529  0.005462 -0.004792  0.003631  1.000000   \n",
       "EDFS         -0.023526 -0.102221  0.118736 -0.063989  0.076304 -0.007452   \n",
       "GUUB          0.032118  0.061553 -0.073203  0.053958 -0.042134  0.004891   \n",
       "MGJM         -0.016091  0.039728 -0.067177  0.094121 -0.011688  0.025553   \n",
       "JHZC          0.026222  0.105532 -0.119816  0.065143 -0.066895 -0.006403   \n",
       "TARGET CLASS -0.079896 -0.416168  0.489347 -0.172029  0.295390 -0.015266   \n",
       "\n",
       "                  EDFS      GUUB      MGJM      JHZC  TARGET CLASS  \n",
       "XVPM         -0.023526  0.032118 -0.016091  0.026222     -0.079896  \n",
       "GWYH         -0.102221  0.061553  0.039728  0.105532     -0.416168  \n",
       "TRAT          0.118736 -0.073203 -0.067177 -0.119816      0.489347  \n",
       "TLLZ         -0.063989  0.053958  0.094121  0.065143     -0.172029  \n",
       "IGGA          0.076304 -0.042134 -0.011688 -0.066895      0.295390  \n",
       "HYKR         -0.007452  0.004891  0.025553 -0.006403     -0.015266  \n",
       "EDFS          1.000000 -0.071361  0.005865 -0.047928      0.281607  \n",
       "GUUB         -0.071361  1.000000  0.011507  0.061170     -0.174496  \n",
       "MGJM          0.005865  0.011507  1.000000  0.014342     -0.098887  \n",
       "JHZC         -0.047928  0.061170  0.014342  1.000000     -0.301725  \n",
       "TARGET CLASS  0.281607 -0.174496 -0.098887 -0.301725      1.000000  "
      ]
     },
     "execution_count": 16,
     "metadata": {},
     "output_type": "execute_result"
    }
   ],
   "source": [
    "df.corr()"
   ]
  },
  {
   "cell_type": "code",
   "execution_count": 21,
   "metadata": {},
   "outputs": [
    {
     "data": {
      "text/plain": [
       "<matplotlib.axes._subplots.AxesSubplot at 0x1d908dc5c88>"
      ]
     },
     "execution_count": 21,
     "metadata": {},
     "output_type": "execute_result"
    },
    {
     "data": {
      "image/png": "[encoded data removed]",
      "text/plain": [
       "<Figure size 432x288 with 2 Axes>"
      ]
     },
     "metadata": {
      "needs_background": "light"
     },
     "output_type": "display_data"
    }
   ],
   "source": [
    "\n",
    "sns.heatmap(df.corr(), cmap='coolwarm')"
   ]
  },
  {
   "cell_type": "code",
   "execution_count": 22,
   "metadata": {},
   "outputs": [],
   "source": [
    "df.drop(['HYKR','MGJM'], axis=1, inplace=True)"
   ]
  },
  {
   "cell_type": "code",
   "execution_count": 23,
   "metadata": {},
   "outputs": [
    {
     "data": {
      "text/html": [
       "<div>\n",
       "<style scoped>\n",
       "    .dataframe tbody tr th:only-of-type {\n",
       "        vertical-align: middle;\n",
       "    }\n",
       "\n",
       "    .dataframe tbody tr th {\n",
       "        vertical-align: top;\n",
       "    }\n",
       "\n",
       "    .dataframe thead th {\n",
       "        text-align: right;\n",
       "    }\n",
       "</style>\n",
       "<table border=\"1\" class=\"dataframe\">\n",
       "  <thead>\n",
       "    <tr style=\"text-align: right;\">\n",
       "      <th></th>\n",
       "      <th>XVPM</th>\n",
       "      <th>GWYH</th>\n",
       "      <th>TRAT</th>\n",
       "      <th>TLLZ</th>\n",
       "      <th>IGGA</th>\n",
       "      <th>EDFS</th>\n",
       "      <th>GUUB</th>\n",
       "      <th>JHZC</th>\n",
       "      <th>TARGET CLASS</th>\n",
       "    </tr>\n",
       "  </thead>\n",
       "  <tbody>\n",
       "    <tr>\n",
       "      <th>0</th>\n",
       "      <td>1636.670614</td>\n",
       "      <td>817.988525</td>\n",
       "      <td>2565.995189</td>\n",
       "      <td>358.347163</td>\n",
       "      <td>550.417491</td>\n",
       "      <td>2147.641254</td>\n",
       "      <td>330.727893</td>\n",
       "      <td>845.136088</td>\n",
       "      <td>0</td>\n",
       "    </tr>\n",
       "    <tr>\n",
       "      <th>1</th>\n",
       "      <td>1013.402760</td>\n",
       "      <td>577.587332</td>\n",
       "      <td>2644.141273</td>\n",
       "      <td>280.428203</td>\n",
       "      <td>1161.873391</td>\n",
       "      <td>853.404981</td>\n",
       "      <td>447.157619</td>\n",
       "      <td>861.081809</td>\n",
       "      <td>1</td>\n",
       "    </tr>\n",
       "    <tr>\n",
       "      <th>2</th>\n",
       "      <td>1300.035501</td>\n",
       "      <td>820.518697</td>\n",
       "      <td>2025.854469</td>\n",
       "      <td>525.562292</td>\n",
       "      <td>922.206261</td>\n",
       "      <td>818.676686</td>\n",
       "      <td>845.491492</td>\n",
       "      <td>1647.186291</td>\n",
       "      <td>1</td>\n",
       "    </tr>\n",
       "    <tr>\n",
       "      <th>3</th>\n",
       "      <td>1059.347542</td>\n",
       "      <td>1066.866418</td>\n",
       "      <td>612.000041</td>\n",
       "      <td>480.827789</td>\n",
       "      <td>419.467495</td>\n",
       "      <td>852.867810</td>\n",
       "      <td>341.664784</td>\n",
       "      <td>1450.935357</td>\n",
       "      <td>0</td>\n",
       "    </tr>\n",
       "    <tr>\n",
       "      <th>4</th>\n",
       "      <td>1018.340526</td>\n",
       "      <td>1313.679056</td>\n",
       "      <td>950.622661</td>\n",
       "      <td>724.742174</td>\n",
       "      <td>843.065903</td>\n",
       "      <td>905.469453</td>\n",
       "      <td>658.118202</td>\n",
       "      <td>1899.850792</td>\n",
       "      <td>0</td>\n",
       "    </tr>\n",
       "  </tbody>\n",
       "</table>\n",
       "</div>"
      ],
      "text/plain": [
       "          XVPM         GWYH         TRAT        TLLZ         IGGA  \\\n",
       "0  1636.670614   817.988525  2565.995189  358.347163   550.417491   \n",
       "1  1013.402760   577.587332  2644.141273  280.428203  1161.873391   \n",
       "2  1300.035501   820.518697  2025.854469  525.562292   922.206261   \n",
       "3  1059.347542  1066.866418   612.000041  480.827789   419.467495   \n",
       "4  1018.340526  1313.679056   950.622661  724.742174   843.065903   \n",
       "\n",
       "          EDFS        GUUB         JHZC  TARGET CLASS  \n",
       "0  2147.641254  330.727893   845.136088             0  \n",
       "1   853.404981  447.157619   861.081809             1  \n",
       "2   818.676686  845.491492  1647.186291             1  \n",
       "3   852.867810  341.664784  1450.935357             0  \n",
       "4   905.469453  658.118202  1899.850792             0  "
      ]
     },
     "execution_count": 23,
     "metadata": {},
     "output_type": "execute_result"
    }
   ],
   "source": [
    "df.head()"
   ]
  },
  {
   "cell_type": "code",
   "execution_count": null,
   "metadata": {},
   "outputs": [],
   "source": []
  },
  {
   "cell_type": "code",
   "execution_count": 24,
   "metadata": {},
   "outputs": [],
   "source": [
    "from sklearn.model_selection import train_test_split"
   ]
  },
  {
   "cell_type": "code",
   "execution_count": 25,
   "metadata": {},
   "outputs": [],
   "source": [
    "x_train,x_test,y_train,y_test = train_test_split(X,Y, test_size = 0.3)"
   ]
  },
  {
   "cell_type": "code",
   "execution_count": 26,
   "metadata": {},
   "outputs": [],
   "source": [
    "from sklearn.neighbors import KNeighborsClassifier"
   ]
  },
  {
   "cell_type": "code",
   "execution_count": 29,
   "metadata": {},
   "outputs": [],
   "source": [
    "knn = KNeighborsClassifier(n_neighbors=5)"
   ]
  },
  {
   "cell_type": "code",
   "execution_count": 30,
   "metadata": {},
   "outputs": [
    {
     "data": {
      "text/plain": [
       "KNeighborsClassifier(algorithm='auto', leaf_size=30, metric='minkowski',\n",
       "           metric_params=None, n_jobs=1, n_neighbors=5, p=2,\n",
       "           weights='uniform')"
      ]
     },
     "execution_count": 30,
     "metadata": {},
     "output_type": "execute_result"
    }
   ],
   "source": [
    "knn.fit(x_train,y_train)"
   ]
  },
  {
   "cell_type": "code",
   "execution_count": 33,
   "metadata": {},
   "outputs": [],
   "source": [
    "y_pred=knn.predict(x_test)"
   ]
  },
  {
   "cell_type": "code",
   "execution_count": 35,
   "metadata": {},
   "outputs": [
    {
     "data": {
      "text/plain": [
       "0.19"
      ]
     },
     "execution_count": 35,
     "metadata": {},
     "output_type": "execute_result"
    }
   ],
   "source": [
    "np.mean(y_pred!=y_test)"
   ]
  },
  {
   "cell_type": "code",
   "execution_count": null,
   "metadata": {},
   "outputs": [],
   "source": []
  },
  {
   "cell_type": "code",
   "execution_count": 43,
   "metadata": {},
   "outputs": [],
   "source": [
    "error_rate = []\n",
    "for i in range(1,40):\n",
    "    knn = KNeighborsClassifier(n_neighbors=i)\n",
    "    knn.fit(x_train,y_train)\n",
    "    y_pred = knn.predict(x_test)\n",
    "    error_rate.append(np.mean(y_pred!=y_test))\n",
    "    "
   ]
  },
  {
   "cell_type": "code",
   "execution_count": 45,
   "metadata": {},
   "outputs": [
    {
     "data": {
      "text/plain": [
       "<matplotlib.axes._subplots.AxesSubplot at 0x1d909149ef0>"
      ]
     },
     "execution_count": 45,
     "metadata": {},
     "output_type": "execute_result"
    },
    {
     "data": {
      "image/png": "[encoded data removed]",
      "text/plain": [
       "<Figure size 432x288 with 1 Axes>"
      ]
     },
     "metadata": {
      "needs_background": "light"
     },
     "output_type": "display_data"
    }
   ],
   "source": [
    "sns.lineplot(x= range(1,40), y = error_rate)"
   ]
  },
  {
   "cell_type": "code",
   "execution_count": 47,
   "metadata": {},
   "outputs": [
    {
     "data": {
      "text/plain": [
       "[<matplotlib.lines.Line2D at 0x1d90933a048>]"
      ]
     },
     "execution_count": 47,
     "metadata": {},
     "output_type": "execute_result"
    },
    {
     "data": {
      "image/png": "[encoded data removed]",
      "text/plain": [
       "<Figure size 432x288 with 1 Axes>"
      ]
     },
     "metadata": {
      "needs_background": "light"
     },
     "output_type": "display_data"
    }
   ],
   "source": [
    "plt.plot(range(1,40),error_rate,)"
   ]
  },
  {
   "cell_type": "code",
   "execution_count": null,
   "metadata": {},
   "outputs": [],
   "source": []
  },
  {
   "cell_type": "code",
   "execution_count": null,
   "metadata": {},
   "outputs": [],
   "source": []
  }
 ],
 "metadata": {
  "kernelspec": {
   "display_name": "Python 3",
   "language": "python",
   "name": "python3"
  },
  "language_info": {
   "codemirror_mode": {
    "name": "ipython",
    "version": 3
   },
   "file_extension": ".py",
   "mimetype": "text/x-python",
   "name": "python",
   "nbconvert_exporter": "python",
   "pygments_lexer": "ipython3",
   "version": "3.7.0"
  }
 },
 "nbformat": 4,
 "nbformat_minor": 2
}
